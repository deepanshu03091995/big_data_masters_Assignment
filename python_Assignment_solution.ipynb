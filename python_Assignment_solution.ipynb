{
 "cells": [
  {
   "cell_type": "markdown",
   "id": "cdc48538",
   "metadata": {},
   "source": [
    "# Description: Remove SPSS from input_list=['SAS', 'R', 'PYTHON', 'SPSS'] and add 'SPARK' in its place."
   ]
  },
  {
   "cell_type": "code",
   "execution_count": 1,
   "id": "70586df7",
   "metadata": {},
   "outputs": [],
   "source": [
    "input_list=['SAS','R','PYTHON','SPSS']\n",
    "input_list.pop()\n",
    "input_list.append('SPARK')"
   ]
  },
  {
   "cell_type": "code",
   "execution_count": 2,
   "id": "f50fb443",
   "metadata": {},
   "outputs": [
    {
     "data": {
      "text/plain": [
       "['SAS', 'R', 'PYTHON', 'SPARK']"
      ]
     },
     "execution_count": 2,
     "metadata": {},
     "output_type": "execute_result"
    }
   ],
   "source": [
    "input_list"
   ]
  },
  {
   "cell_type": "markdown",
   "id": "5486cd86",
   "metadata": {},
   "source": [
    "# Description: Convert a string input_str = 'I love Data Science & Python' to a list by splitting it on ‘&’. The sample output for this string will be:"
   ]
  },
  {
   "cell_type": "code",
   "execution_count": 3,
   "id": "dd012341",
   "metadata": {},
   "outputs": [
    {
     "data": {
      "text/plain": [
       "['I love Data Structure ', ' Python']"
      ]
     },
     "execution_count": 3,
     "metadata": {},
     "output_type": "execute_result"
    }
   ],
   "source": [
    "input_str='I love Data Structure & Python'\n",
    "input_str.split('&')"
   ]
  },
  {
   "cell_type": "markdown",
   "id": "99e17156",
   "metadata": {},
   "source": [
    "# Description: Convert a list ['Pythons syntax is easy to learn', 'Pythons syntax is very clear'] to a string using ‘&’. The sample output of this string will be:"
   ]
  },
  {
   "cell_type": "code",
   "execution_count": 5,
   "id": "efd8f724",
   "metadata": {},
   "outputs": [
    {
     "data": {
      "text/plain": [
       "'Python syntax is easy to learn & Pythons syntax is very clear'"
      ]
     },
     "execution_count": 5,
     "metadata": {},
     "output_type": "execute_result"
    }
   ],
   "source": [
    "input_list=['Python syntax is easy to learn','Pythons syntax is very clear']\n",
    "\" & \".join(input_list)"
   ]
  },
  {
   "cell_type": "markdown",
   "id": "16c343df",
   "metadata": {},
   "source": [
    "# Description: Extract Python from a nested list input_list = [['SAS','R'],['Tableau','SQL'],['Python','Java']]"
   ]
  },
  {
   "cell_type": "code",
   "execution_count": 6,
   "id": "b32f7c39",
   "metadata": {},
   "outputs": [
    {
     "data": {
      "text/plain": [
       "'Python'"
      ]
     },
     "execution_count": 6,
     "metadata": {},
     "output_type": "execute_result"
    }
   ],
   "source": [
    "input_list=[['SAS','R'],['Tableau','SQL'],['Python','Java']]\n",
    "input_list[2][0]"
   ]
  },
  {
   "cell_type": "markdown",
   "id": "dec79504",
   "metadata": {},
   "source": [
    "# Description: t = (\"disco\", 12, 4.5) What is the output of: t[0][2]"
   ]
  },
  {
   "cell_type": "code",
   "execution_count": 7,
   "id": "1c16a1d7",
   "metadata": {},
   "outputs": [
    {
     "data": {
      "text/plain": [
       "'s'"
      ]
     },
     "execution_count": 7,
     "metadata": {},
     "output_type": "execute_result"
    }
   ],
   "source": [
    "t=(\"disco\",12,4.5)\n",
    "t[0][2]"
   ]
  },
  {
   "cell_type": "markdown",
   "id": "354a5c8c",
   "metadata": {},
   "source": [
    "# Description: Write a program to check whether a string is a palindrome or not. Print 1 if the string is a palindrome and 0 otherwise."
   ]
  },
  {
   "cell_type": "code",
   "execution_count": 28,
   "id": "31749113",
   "metadata": {},
   "outputs": [],
   "source": [
    "def palindrome(input):\n",
    "    reverse=reversed(input)\n",
    "    if list(reverse)==list(input):\n",
    "        return 1\n",
    "    else:\n",
    "        return 0"
   ]
  },
  {
   "cell_type": "code",
   "execution_count": null,
   "id": "afb9aecd",
   "metadata": {},
   "outputs": [],
   "source": []
  },
  {
   "cell_type": "code",
   "execution_count": 32,
   "id": "3a9f48c8",
   "metadata": {},
   "outputs": [
    {
     "data": {
      "text/plain": [
       "0"
      ]
     },
     "execution_count": 32,
     "metadata": {},
     "output_type": "execute_result"
    }
   ],
   "source": [
    "palindrome(\"rara\")"
   ]
  },
  {
   "cell_type": "code",
   "execution_count": 33,
   "id": "a2336426",
   "metadata": {},
   "outputs": [
    {
     "data": {
      "text/plain": [
       "1"
      ]
     },
     "execution_count": 33,
     "metadata": {},
     "output_type": "execute_result"
    }
   ],
   "source": [
    "palindrome(\"121\")"
   ]
  },
  {
   "cell_type": "markdown",
   "id": "69771181",
   "metadata": {},
   "source": [
    "# Description: You will be given a sentence in the form of a string. You have to reverse the order of the words in the sentence. Remember not to reverse the individual words, but the order of words. Check the sample input-output for further clarification."
   ]
  },
  {
   "cell_type": "code",
   "execution_count": 40,
   "id": "3a366643",
   "metadata": {},
   "outputs": [
    {
     "name": "stdout",
     "output_type": "stream",
     "text": [
      "['deepanshu', 'is', 'Name', 'My']\n"
     ]
    }
   ],
   "source": [
    "string=\"My Name is deepanshu\"\n",
    "list_string=string.split(\" \")\n",
    "print(list_string[::-1])"
   ]
  },
  {
   "cell_type": "markdown",
   "id": "d344bead",
   "metadata": {},
   "source": [
    "# Description: Write a program that satisfies below examples\n",
    "# Input 1: caloRie ConsuMed\n",
    "# Output 1: calorie_consumed\n",
    "# Input 2: data science\n",
    "# Output 2: data_science\n",
    "# Input 3: datascience\n",
    "# Output 3: datascience"
   ]
  },
  {
   "cell_type": "code",
   "execution_count": 48,
   "id": "ca846042",
   "metadata": {},
   "outputs": [],
   "source": [
    "def joinByUnderScore(string):\n",
    "    t=string.lower()\n",
    "    j=t.split(\" \")\n",
    "    final_string=\"_\".join(j)\n",
    "    return final_string"
   ]
  },
  {
   "cell_type": "code",
   "execution_count": 49,
   "id": "0fb9be04",
   "metadata": {},
   "outputs": [
    {
     "data": {
      "text/plain": [
       "'data_science'"
      ]
     },
     "execution_count": 49,
     "metadata": {},
     "output_type": "execute_result"
    }
   ],
   "source": [
    "joinByUnderScore(\"data science\")"
   ]
  },
  {
   "cell_type": "code",
   "execution_count": 50,
   "id": "a76d5274",
   "metadata": {},
   "outputs": [
    {
     "data": {
      "text/plain": [
       "'calorie_consumed'"
      ]
     },
     "execution_count": 50,
     "metadata": {},
     "output_type": "execute_result"
    }
   ],
   "source": [
    "joinByUnderScore(\"caloRie ConsuMed\")"
   ]
  },
  {
   "cell_type": "markdown",
   "id": "11a6b464",
   "metadata": {},
   "source": [
    "# Multiple Choice Question"
   ]
  },
  {
   "cell_type": "code",
   "execution_count": 51,
   "id": "58bb34a7",
   "metadata": {},
   "outputs": [
    {
     "data": {
      "text/plain": [
       "'Love'"
      ]
     },
     "execution_count": 51,
     "metadata": {},
     "output_type": "execute_result"
    }
   ],
   "source": [
    "S=\"I Love Python\"\n",
    "S[2:6]# option B is correct"
   ]
  },
  {
   "cell_type": "code",
   "execution_count": 52,
   "id": "5a651170",
   "metadata": {},
   "outputs": [
    {
     "data": {
      "text/plain": [
       "81"
      ]
     },
     "execution_count": 52,
     "metadata": {},
     "output_type": "execute_result"
    }
   ],
   "source": [
    "3*3**3 # so option C is correct"
   ]
  },
  {
   "cell_type": "code",
   "execution_count": 53,
   "id": "30f611e5",
   "metadata": {},
   "outputs": [
    {
     "data": {
      "text/plain": [
       "1"
      ]
     },
     "execution_count": 53,
     "metadata": {},
     "output_type": "execute_result"
    }
   ],
   "source": [
    "((500//7) % 5) ** 3 # so Option A is correct"
   ]
  },
  {
   "cell_type": "code",
   "execution_count": 54,
   "id": "72c4264b",
   "metadata": {},
   "outputs": [
    {
     "ename": "AttributeError",
     "evalue": "'tuple' object has no attribute 'append'",
     "output_type": "error",
     "traceback": [
      "\u001b[1;31m---------------------------------------------------------------------------\u001b[0m",
      "\u001b[1;31mAttributeError\u001b[0m                            Traceback (most recent call last)",
      "Input \u001b[1;32mIn [54]\u001b[0m, in \u001b[0;36m<cell line: 2>\u001b[1;34m()\u001b[0m\n\u001b[0;32m      1\u001b[0m T \u001b[38;5;241m=\u001b[39m (\u001b[38;5;241m3\u001b[39m, \u001b[38;5;241m5\u001b[39m, \u001b[38;5;241m7\u001b[39m, \u001b[38;5;241m11\u001b[39m)\n\u001b[1;32m----> 2\u001b[0m \u001b[43mT\u001b[49m\u001b[38;5;241;43m.\u001b[39;49m\u001b[43mappend\u001b[49m(\u001b[38;5;241m9\u001b[39m)\n",
      "\u001b[1;31mAttributeError\u001b[0m: 'tuple' object has no attribute 'append'"
     ]
    }
   ],
   "source": [
    "T = (3, 5, 7, 11)\n",
    "T.append(9)# so option D is correct"
   ]
  },
  {
   "cell_type": "code",
   "execution_count": 55,
   "id": "964c1c1d",
   "metadata": {},
   "outputs": [],
   "source": [
    "l=[32,34,12,27,33]\n",
    "l.append((14,19))"
   ]
  },
  {
   "cell_type": "code",
   "execution_count": 56,
   "id": "bc8791d1",
   "metadata": {},
   "outputs": [
    {
     "data": {
      "text/plain": [
       "[32, 34, 12, 27, 33, (14, 19)]"
      ]
     },
     "execution_count": 56,
     "metadata": {},
     "output_type": "execute_result"
    }
   ],
   "source": [
    "l"
   ]
  },
  {
   "cell_type": "code",
   "execution_count": 58,
   "id": "d3684c6f",
   "metadata": {},
   "outputs": [
    {
     "data": {
      "text/plain": [
       "6"
      ]
     },
     "execution_count": 58,
     "metadata": {},
     "output_type": "execute_result"
    }
   ],
   "source": [
    "len(l) # So option B is correct"
   ]
  },
  {
   "cell_type": "code",
   "execution_count": 59,
   "id": "b4662c64",
   "metadata": {},
   "outputs": [],
   "source": [
    "# Question 7\n",
    "\n",
    "# C"
   ]
  },
  {
   "cell_type": "code",
   "execution_count": 61,
   "id": "2ce599f6",
   "metadata": {},
   "outputs": [
    {
     "name": "stdout",
     "output_type": "stream",
     "text": [
      "1\n",
      "2\n",
      "3\n"
     ]
    }
   ],
   "source": [
    "D={\n",
    "    1:['Raj',22],\n",
    "    2:['Simran',21],\n",
    "    3:['Rahul',40],\n",
    "    \n",
    "}\n",
    "for i in D:  # so Option A is correct\n",
    "    print(i)"
   ]
  },
  {
   "cell_type": "code",
   "execution_count": 75,
   "id": "d49d42a0",
   "metadata": {},
   "outputs": [],
   "source": [
    "paragraph='''This forest is called a Tropical Rainforest, and it has been named rainforest because it receives 100 inches of rain annually. Under tropical forest cover, a wide range of species thrives compared to other forest ecosystems. This forest type can be located at 23.5 degrees North and 23.5 degrees south. The temperature hovers around 68 degrees and 77 degrees Fahrenheit. Massive rainfall has resulted in the bad quality of soil, eroded soil, and taken key minerals from the soil. Due to massive rainfall, the leaching of soil is visible. Broad-leafed trees dominate the tropical forest, and the height of trees could be 82-115 feet. The sunlight is not able to reach the ground floor due to the dense canopy. The tropical forest houses a wide range of species like amphibians, reptiles, mammals, and birds. Tropical Forest is also classified into various parts'''"
   ]
  },
  {
   "cell_type": "code",
   "execution_count": 87,
   "id": "5cdf28b2",
   "metadata": {},
   "outputs": [
    {
     "data": {
      "text/plain": [
       "['This forest is called a Tropical Rainforest, and it has been named rainforest because it receives 100 inches of rain annually',\n",
       " ' Under tropical forest cover, a wide range of species thrives compared to other forest ecosystems',\n",
       " ' This forest type can be located at 23',\n",
       " '5 degrees North and 23',\n",
       " '5 degrees south',\n",
       " ' The temperature hovers around 68 degrees and 77 degrees Fahrenheit',\n",
       " ' Massive rainfall has resulted in the bad quality of soil, eroded soil, and taken key minerals from the soil',\n",
       " ' Due to massive rainfall, the leaching of soil is visible',\n",
       " ' Broad-leafed trees dominate the tropical forest, and the height of trees could be 82-115 feet',\n",
       " ' The sunlight is not able to reach the ground floor due to the dense canopy',\n",
       " ' The tropical forest houses a wide range of species like amphibians, reptiles, mammals, and birds',\n",
       " ' Tropical Forest is also classified into various parts']"
      ]
     },
     "execution_count": 87,
     "metadata": {},
     "output_type": "execute_result"
    }
   ],
   "source": [
    "paragraph.split(\".\")"
   ]
  },
  {
   "cell_type": "code",
   "execution_count": 94,
   "id": "4b482180",
   "metadata": {},
   "outputs": [
    {
     "name": "stdout",
     "output_type": "stream",
     "text": [
      "[10, 9, 8, 7, 6, 5, 4, 3, 2]\n"
     ]
    }
   ],
   "source": [
    "print(list(range(10,1,-1))) # Option D is correct"
   ]
  },
  {
   "cell_type": "code",
   "execution_count": null,
   "id": "eb24221e",
   "metadata": {},
   "outputs": [],
   "source": []
  }
 ],
 "metadata": {
  "kernelspec": {
   "display_name": "Python 3 (ipykernel)",
   "language": "python",
   "name": "python3"
  },
  "language_info": {
   "codemirror_mode": {
    "name": "ipython",
    "version": 3
   },
   "file_extension": ".py",
   "mimetype": "text/x-python",
   "name": "python",
   "nbconvert_exporter": "python",
   "pygments_lexer": "ipython3",
   "version": "3.9.7"
  }
 },
 "nbformat": 4,
 "nbformat_minor": 5
}
